{
 "cells": [
  {
   "cell_type": "code",
   "execution_count": 18,
   "id": "e8b541f9",
   "metadata": {},
   "outputs": [
    {
     "name": "stdout",
     "output_type": "stream",
     "text": [
      "0 1 1 2 3 5 8 13 "
     ]
    },
    {
     "data": {
      "text/plain": [
       "13"
      ]
     },
     "execution_count": 18,
     "metadata": {},
     "output_type": "execute_result"
    }
   ],
   "source": [
    "# find the fibonacci series\n",
    "n = 7\n",
    "def fib(n):\n",
    "    if n == 0:\n",
    "        return 0\n",
    "    elif n == 1 or n == 2:\n",
    "        return 1\n",
    "    else:\n",
    "        return fib(n-1)+fib(n-2)\n",
    "for i in range(n+1):\n",
    "    print(fib(i),end=' ')\n",
    "fib(n)"
   ]
  },
  {
   "cell_type": "code",
   "execution_count": 26,
   "id": "f0826945",
   "metadata": {},
   "outputs": [
    {
     "name": "stdout",
     "output_type": "stream",
     "text": [
      "2\n",
      "not prime\n",
      "prime\n",
      "prime\n"
     ]
    }
   ],
   "source": [
    "# check if a number is prime is not\n",
    "import math\n",
    "n = \n",
    "m=int(math.sqrt(n))\n",
    "for i in range(2,m):\n",
    "    if n % i == 0:\n",
    "        print(i)\n",
    "        print(\"not prime\")\n",
    "    else:\n",
    "        print(\"prime\")"
   ]
  },
  {
   "cell_type": "code",
   "execution_count": 28,
   "id": "2ad7acd3",
   "metadata": {},
   "outputs": [
    {
     "data": {
      "text/plain": [
       "'not prime'"
      ]
     },
     "execution_count": 28,
     "metadata": {},
     "output_type": "execute_result"
    }
   ],
   "source": [
    "def prime(n):\n",
    "    for i in range(2,int(math.sqrt(n))):\n",
    "        if n % i == 0:\n",
    "            return (\"prime\")\n",
    "        else:\n",
    "            return (\"not prime\")\n",
    "prime(13)"
   ]
  },
  {
   "cell_type": "code",
   "execution_count": 33,
   "id": "9e7cdf84",
   "metadata": {},
   "outputs": [
    {
     "data": {
      "text/plain": [
       "'palindrome'"
      ]
     },
     "execution_count": 33,
     "metadata": {},
     "output_type": "execute_result"
    }
   ],
   "source": [
    "# palindrome or not palindrome\n",
    "def palindrome(n):\n",
    "    s = str(n)\n",
    "    k = int(s[::-1])\n",
    "    if k == n:\n",
    "        return \"palindrome\"\n",
    "    else:\n",
    "        return \"not palindrome\"\n",
    "palindrome(121)\n",
    "# palindrome(123)"
   ]
  },
  {
   "cell_type": "code",
   "execution_count": 41,
   "id": "f58169aa",
   "metadata": {},
   "outputs": [
    {
     "data": {
      "text/plain": [
       "120"
      ]
     },
     "execution_count": 41,
     "metadata": {},
     "output_type": "execute_result"
    }
   ],
   "source": [
    "# factorial number\n",
    "def factorial(n):\n",
    "    if n < 1:\n",
    "        return 1\n",
    "    else:\n",
    "        return (n*factorial(n-1))\n",
    "factorial(5)"
   ]
  },
  {
   "cell_type": "code",
   "execution_count": 48,
   "id": "431a3702",
   "metadata": {},
   "outputs": [
    {
     "data": {
      "text/plain": [
       "True"
      ]
     },
     "execution_count": 48,
     "metadata": {},
     "output_type": "execute_result"
    }
   ],
   "source": [
    "# armstrong number\n",
    "def armstrong(n):\n",
    "    ans = []\n",
    "    s = str(n)\n",
    "    k = len(s)\n",
    "    for i in s:\n",
    "        l = pow(int(i),k)\n",
    "        ans.append(l)\n",
    "    if sum(ans) == n:\n",
    "        return True\n",
    "    else:\n",
    "        return False\n",
    "armstrong(9474)"
   ]
  },
  {
   "cell_type": "code",
   "execution_count": 50,
   "id": "1372294c",
   "metadata": {},
   "outputs": [
    {
     "data": {
      "text/plain": [
       "15"
      ]
     },
     "execution_count": 50,
     "metadata": {},
     "output_type": "execute_result"
    }
   ],
   "source": [
    "# sum of digit\n",
    "def sum_of_d(n):\n",
    "    s = [i for i in range(n+1)]\n",
    "    return sum(s)\n",
    "sum_of_d(5)"
   ]
  },
  {
   "cell_type": "code",
   "execution_count": 51,
   "id": "e6690eeb",
   "metadata": {},
   "outputs": [
    {
     "data": {
      "text/plain": [
       "3121"
      ]
     },
     "execution_count": 51,
     "metadata": {},
     "output_type": "execute_result"
    }
   ],
   "source": [
    "# reverse a number\n",
    "def rev(n):\n",
    "    k = str(n)\n",
    "    ans = int(k[::-1])\n",
    "    return ans\n",
    "rev(1213)"
   ]
  },
  {
   "cell_type": "code",
   "execution_count": 64,
   "id": "7870e942",
   "metadata": {},
   "outputs": [
    {
     "data": {
      "text/plain": [
       "(32, 12)"
      ]
     },
     "execution_count": 64,
     "metadata": {},
     "output_type": "execute_result"
    }
   ],
   "source": [
    "# swap number \n",
    "def swap(n,k):\n",
    "    temp = n\n",
    "    n = k\n",
    "    k = temp\n",
    "    return n,k\n",
    "swap(12,32)"
   ]
  },
  {
   "cell_type": "code",
   "execution_count": 68,
   "id": "c7033158",
   "metadata": {},
   "outputs": [
    {
     "ename": "SyntaxError",
     "evalue": "invalid syntax (1808884409.py, line 2)",
     "output_type": "error",
     "traceback": [
      "\u001b[0;36m  Input \u001b[0;32mIn [68]\u001b[0;36m\u001b[0m\n\u001b[0;31m    // without main\u001b[0m\n\u001b[0m    ^\u001b[0m\n\u001b[0;31mSyntaxError\u001b[0m\u001b[0;31m:\u001b[0m invalid syntax\n"
     ]
    }
   ],
   "source": [
    "#without main\n",
    "\n",
    "\n",
    "#include<stdio.h>\n",
    "#define start main\n",
    "void start(){\n",
    "    printf(\"jai shree ram\");\n",
    "\n",
    "}"
   ]
  },
  {
   "cell_type": "code",
   "execution_count": 69,
   "id": "b5075b3a",
   "metadata": {},
   "outputs": [
    {
     "name": "stdout",
     "output_type": "stream",
     "text": [
      "0b1101\n"
     ]
    }
   ],
   "source": [
    "#program for decimal to binary\n",
    "n = 13\n",
    "print(bin(n))"
   ]
  },
  {
   "cell_type": "code",
   "execution_count": 71,
   "id": "661454ba",
   "metadata": {},
   "outputs": [
    {
     "data": {
      "text/plain": [
       "False"
      ]
     },
     "execution_count": 71,
     "metadata": {},
     "output_type": "execute_result"
    }
   ],
   "source": [
    "# check if number is positive or negative\n",
    "def positive(n):\n",
    "    if n > 0:\n",
    "        return True\n",
    "    else:\n",
    "        return False\n",
    "positive(-12)"
   ]
  },
  {
   "cell_type": "code",
   "execution_count": 72,
   "id": "50719e37",
   "metadata": {},
   "outputs": [
    {
     "name": "stdout",
     "output_type": "stream",
     "text": [
      "44\n"
     ]
    }
   ],
   "source": [
    "# greater 3 number\n",
    "print(max(12,42,44))"
   ]
  },
  {
   "cell_type": "code",
   "execution_count": 81,
   "id": "7985a2c1",
   "metadata": {},
   "outputs": [
    {
     "name": "stdout",
     "output_type": "stream",
     "text": [
      "60\n"
     ]
    }
   ],
   "source": [
    "# program to get ascii value\n",
    "n = \"<\"\n",
    "print(ord(n))"
   ]
  },
  {
   "cell_type": "code",
   "execution_count": 105,
   "id": "938dc7ae",
   "metadata": {},
   "outputs": [
    {
     "name": "stdout",
     "output_type": "stream",
     "text": [
      "52\n"
     ]
    }
   ],
   "source": [
    "# demonstrate size of function\n",
    "import sys\n",
    "n = \"jai\"\n",
    "print(sys.getsizeof(n))"
   ]
  },
  {
   "cell_type": "code",
   "execution_count": 98,
   "id": "10893e80",
   "metadata": {},
   "outputs": [
    {
     "name": "stdout",
     "output_type": "stream",
     "text": [
      "Not leap year\n"
     ]
    }
   ],
   "source": [
    "# leap year\n",
    "n = 2020\n",
    "if n % 4 == 0:\n",
    "    if n % 100:\n",
    "        if n % 400 ==0:\n",
    "            print(\"leap year\")\n",
    "        else:\n",
    "            print(\"Not leap year\")\n",
    "    else:\n",
    "        print(\"Not leap year\")\n",
    "else:\n",
    "    print(\"Not leap year\")"
   ]
  },
  {
   "cell_type": "code",
   "execution_count": 82,
   "id": "feecd9eb",
   "metadata": {},
   "outputs": [
    {
     "name": "stdout",
     "output_type": "stream",
     "text": [
      "ADFVFEF\n",
      "adfvfef\n"
     ]
    }
   ],
   "source": [
    "# convert upper or lower\n",
    "k = \"adfvfEF\"\n",
    "print(k.upper())\n",
    "print(k.lower())"
   ]
  },
  {
   "cell_type": "code",
   "execution_count": 1,
   "id": "0e5af856",
   "metadata": {},
   "outputs": [
    {
     "name": "stdout",
     "output_type": "stream",
     "text": [
      "13\n"
     ]
    }
   ],
   "source": [
    "# program to get string length\n",
    "s = \"vivekrajsingh\"\n",
    "print(len(s))"
   ]
  },
  {
   "cell_type": "code",
   "execution_count": 2,
   "id": "c0eb3f9a",
   "metadata": {},
   "outputs": [
    {
     "name": "stdout",
     "output_type": "stream",
     "text": [
      "VIVEK\n"
     ]
    }
   ],
   "source": [
    "#convert lower case to upper case\n",
    "s = \"vivek\"\n",
    "print(s.upper())"
   ]
  },
  {
   "cell_type": "code",
   "execution_count": 3,
   "id": "516645a4",
   "metadata": {},
   "outputs": [
    {
     "name": "stdout",
     "output_type": "stream",
     "text": [
      "vivek raj\n"
     ]
    }
   ],
   "source": [
    "# program to cancatentenate 2 strings\n",
    "s = \"vivek \"\n",
    "ss = \"raj\"\n",
    "print(s+ss)"
   ]
  },
  {
   "cell_type": "code",
   "execution_count": 5,
   "id": "ea541469",
   "metadata": {},
   "outputs": [
    {
     "name": "stdout",
     "output_type": "stream",
     "text": [
      "34\n"
     ]
    }
   ],
   "source": [
    "# 21. program to get largest element in array\n",
    "arr = [1,2,3,4,5,5,22,34]\n",
    "print(max(arr))"
   ]
  },
  {
   "cell_type": "code",
   "execution_count": 6,
   "id": "95b612b4",
   "metadata": {},
   "outputs": [
    {
     "name": "stdout",
     "output_type": "stream",
     "text": [
      "8\n"
     ]
    }
   ],
   "source": [
    "# 22. program to get size of the array\n",
    "arr = [1,2,3,2,2,2,33,44]\n",
    "print(len(arr))"
   ]
  },
  {
   "cell_type": "code",
   "execution_count": 7,
   "id": "5a65ea5b",
   "metadata": {},
   "outputs": [
    {
     "name": "stdout",
     "output_type": "stream",
     "text": [
      "12\n"
     ]
    }
   ],
   "source": [
    "# 23 program to get GCD \n",
    "import math\n",
    "n = 12\n",
    "n2 = 24\n",
    "print(math.gcd(n,n2))"
   ]
  },
  {
   "cell_type": "code",
   "execution_count": 11,
   "id": "26bece47",
   "metadata": {},
   "outputs": [
    {
     "data": {
      "text/plain": [
       "12"
      ]
     },
     "execution_count": 11,
     "metadata": {},
     "output_type": "execute_result"
    }
   ],
   "source": [
    "def hcf(n,n2):\n",
    "    if n2 == 0:\n",
    "        return n\n",
    "    else:\n",
    "        return hcf(n2 , n % n2)\n",
    "hcf(n,n2)"
   ]
  },
  {
   "cell_type": "code",
   "execution_count": 16,
   "id": "0295ba91",
   "metadata": {},
   "outputs": [
    {
     "name": "stdout",
     "output_type": "stream",
     "text": [
      "24\n"
     ]
    }
   ],
   "source": [
    "# 24. program to get LCM\n",
    "n = 12\n",
    "n2 = 24\n",
    "print(math.lcm(n,n2))"
   ]
  },
  {
   "cell_type": "code",
   "execution_count": 13,
   "id": "1632411a",
   "metadata": {},
   "outputs": [],
   "source": []
  },
  {
   "cell_type": "code",
   "execution_count": 17,
   "id": "3974d990",
   "metadata": {},
   "outputs": [
    {
     "data": {
      "text/plain": [
       "24"
      ]
     },
     "execution_count": 17,
     "metadata": {},
     "output_type": "execute_result"
    }
   ],
   "source": [
    "def lcm(x,y):\n",
    "    if x > y:\n",
    "        greater = x\n",
    "    else:\n",
    "        greater = y\n",
    "    while (True):\n",
    "        if ((greater%x==0)and(greater%y==0)):\n",
    "            l = greater\n",
    "            break\n",
    "        greater += 1\n",
    "    return l\n",
    "x = 12\n",
    "y = 24\n",
    "lcm(x,y)"
   ]
  },
  {
   "cell_type": "code",
   "execution_count": 18,
   "id": "b3169e85",
   "metadata": {},
   "outputs": [
    {
     "name": "stdout",
     "output_type": "stream",
     "text": [
      "7\n"
     ]
    }
   ],
   "source": [
    "# 25 program to get number of digits\n",
    "s = 1234565\n",
    "ss = str(s)\n",
    "print(len(ss))"
   ]
  },
  {
   "cell_type": "code",
   "execution_count": 20,
   "id": "000be909",
   "metadata": {},
   "outputs": [
    {
     "name": "stdout",
     "output_type": "stream",
     "text": [
      "2\n"
     ]
    }
   ],
   "source": [
    "# 26. program to get factorial\n",
    "print(math.factorial(2))"
   ]
  },
  {
   "cell_type": "code",
   "execution_count": 21,
   "id": "26cbc238",
   "metadata": {},
   "outputs": [
    {
     "name": "stdout",
     "output_type": "stream",
     "text": [
      "30.0\n"
     ]
    }
   ],
   "source": [
    "# 27. program to get array average \n",
    "arr = [10,20,30,40,50]\n",
    "n = len(arr)\n",
    "sum_ = sum(arr)\n",
    "avg = sum_ / n\n",
    "print(avg)"
   ]
  },
  {
   "cell_type": "code",
   "execution_count": null,
   "id": "602fea95",
   "metadata": {},
   "outputs": [],
   "source": [
    "# 28. program for strcy\n",
    "C strcpy() is a standard library function in C++ and is used to copy one string to another. In C++ it is present in the <string.h> and <cstring> header files. \n"
   ]
  },
  {
   "cell_type": "code",
   "execution_count": null,
   "id": "9661b451",
   "metadata": {},
   "outputs": [],
   "source": [
    "# 29 . program for strrev"
   ]
  },
  {
   "cell_type": "code",
   "execution_count": 26,
   "id": "23898904",
   "metadata": {},
   "outputs": [
    {
     "name": "stdout",
     "output_type": "stream",
     "text": [
      "145\n",
      "False\n"
     ]
    }
   ],
   "source": [
    "# 30.program to check strong number\n",
    "strong = 145\n",
    "st = str(strong)\n",
    "s = []\n",
    "for i in range(len(st)):\n",
    "    k = math.factorial(int(st[i]))\n",
    "    s.append(k)\n",
    "ans = (sum(s))\n",
    "print(ans)\n",
    "if ans == n:\n",
    "    print(True)\n",
    "else:\n",
    "    print(False)"
   ]
  },
  {
   "cell_type": "code",
   "execution_count": 29,
   "id": "cb642923",
   "metadata": {},
   "outputs": [
    {
     "name": "stdout",
     "output_type": "stream",
     "text": [
      "125\n"
     ]
    }
   ],
   "source": [
    "# 31 program to get number cube\n",
    "n = 5\n",
    "print(pow(n,3))"
   ]
  },
  {
   "cell_type": "code",
   "execution_count": 34,
   "id": "d2ce0513",
   "metadata": {},
   "outputs": [
    {
     "name": "stdout",
     "output_type": "stream",
     "text": [
      "29\n"
     ]
    }
   ],
   "source": [
    "# 32 program to generate random number\n",
    "import random\n",
    "s = (random.randint(10,50))\n",
    "print(s)"
   ]
  },
  {
   "cell_type": "code",
   "execution_count": 35,
   "id": "625eeff8",
   "metadata": {},
   "outputs": [],
   "source": [
    "# 33,34 repeat"
   ]
  },
  {
   "cell_type": "code",
   "execution_count": 36,
   "id": "24c0024c",
   "metadata": {},
   "outputs": [
    {
     "name": "stdout",
     "output_type": "stream",
     "text": [
      "odd\n"
     ]
    }
   ],
   "source": [
    "# 40. even or odd\n",
    "n = 13\n",
    "if n % 2 == 0:\n",
    "    print(\"even\")\n",
    "else:\n",
    "    print(\"odd\")"
   ]
  },
  {
   "cell_type": "code",
   "execution_count": null,
   "id": "05d96147",
   "metadata": {},
   "outputs": [],
   "source": []
  }
 ],
 "metadata": {
  "kernelspec": {
   "display_name": "Python 3 (ipykernel)",
   "language": "python",
   "name": "python3"
  },
  "language_info": {
   "codemirror_mode": {
    "name": "ipython",
    "version": 3
   },
   "file_extension": ".py",
   "mimetype": "text/x-python",
   "name": "python",
   "nbconvert_exporter": "python",
   "pygments_lexer": "ipython3",
   "version": "3.9.12"
  }
 },
 "nbformat": 4,
 "nbformat_minor": 5
}
